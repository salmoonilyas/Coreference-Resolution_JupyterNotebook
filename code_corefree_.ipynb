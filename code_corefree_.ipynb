{
 "cells": [
  {
   "attachments": {},
   "cell_type": "markdown",
   "metadata": {},
   "source": [
    "# Coreference using \"coreferee\""
   ]
  },
  {
   "attachments": {},
   "cell_type": "markdown",
   "metadata": {},
   "source": [
    "\n",
    "Coreferee is a pipeline plugin that performs coreference resolution for English, French, German and Polish. It is designed so that it is easy to add support for new languages and optimised for limited training data. It uses a mixture of neural networks and programmed rules."
   ]
  },
  {
   "cell_type": "code",
   "execution_count": 1,
   "metadata": {},
   "outputs": [],
   "source": [
    "#pip install coreferee"
   ]
  },
  {
   "cell_type": "code",
   "execution_count": 2,
   "metadata": {},
   "outputs": [],
   "source": [
    "import spacy\n",
    "import coreferee"
   ]
  },
  {
   "cell_type": "code",
   "execution_count": 3,
   "metadata": {},
   "outputs": [],
   "source": [
    "#python -m spacy download en_core_web_sm\n",
    "nlp = spacy.load('en_core_web_sm')"
   ]
  },
  {
   "cell_type": "code",
   "execution_count": 4,
   "metadata": {},
   "outputs": [
    {
     "data": {
      "text/plain": [
       "<coreferee.manager.CorefereeBroker at 0x152647c3ca0>"
      ]
     },
     "execution_count": 4,
     "metadata": {},
     "output_type": "execute_result"
    }
   ],
   "source": [
    "#python -m coreferee install en\n",
    "nlp.add_pipe('coreferee')"
   ]
  },
  {
   "cell_type": "code",
   "execution_count": 5,
   "metadata": {},
   "outputs": [],
   "source": [
    "sentence='Although he was very busy with his work, Peter had enough of it. He and his wife decided they needed a holiday. They travelled to Spain because they loved the country very much.'\n",
    "doc = nlp(sentence)"
   ]
  },
  {
   "cell_type": "code",
   "execution_count": 6,
   "metadata": {},
   "outputs": [
    {
     "name": "stdout",
     "output_type": "stream",
     "text": [
      "0: he(1), his(6), Peter(9), He(15), his(17)\n",
      "1: work(7), it(13)\n",
      "2: [He(15); wife(18)], they(20), They(25), they(30)\n",
      "3: Spain(28), country(33)\n",
      "\n",
      "\n",
      "[Peter]\n"
     ]
    }
   ],
   "source": [
    "doc._.coref_chains.print()\n",
    "print()\n",
    "\n",
    "doc[16]._.coref_chains.print()\n",
    "print(doc._.coref_chains.resolve(doc[1]))"
   ]
  },
  {
   "cell_type": "code",
   "execution_count": 7,
   "metadata": {},
   "outputs": [],
   "source": [
    "def resolve(doc):\n",
    "    resolved_text = \"\"\n",
    "    for token in doc:\n",
    "    \n",
    "        repres = doc._.coref_chains.resolve(token)\n",
    "        #print(repres)\n",
    "        if repres:\n",
    "            resolved_text += \" \" + \" and \".join([t.text for t in repres])\n",
    "        else:\n",
    "            resolved_text += \" \" + token.text\n",
    "    return resolved_text"
   ]
  },
  {
   "cell_type": "code",
   "execution_count": 8,
   "metadata": {},
   "outputs": [
    {
     "name": "stdout",
     "output_type": "stream",
     "text": [
      " Although Peter was very busy with Peter work , Peter had enough of work . Peter and Peter wife decided Peter and wife needed a holiday . Peter and wife travelled to Spain because Peter and wife loved the Spain very much .\n"
     ]
    }
   ],
   "source": [
    "print(resolve(doc))"
   ]
  },
  {
   "cell_type": "code",
   "execution_count": 9,
   "metadata": {},
   "outputs": [
    {
     "name": "stdout",
     "output_type": "stream",
     "text": [
      "0: woman(1), her(13)\n",
      "1: Lesley(6), She(8)\n",
      "\n",
      "\n",
      "[Lesley]\n",
      " The woman looked down and saw Lesley . Lesley stood up and greeted woman .\n"
     ]
    }
   ],
   "source": [
    "sentence='The woman looked down and saw Lesley. She stood up and greeted her.'\n",
    "\n",
    "doc = nlp(sentence)\n",
    "doc._.coref_chains.print()\n",
    "print()\n",
    "\n",
    "doc[4]._.coref_chains.print()\n",
    "print(doc._.coref_chains.resolve(doc[8]))\n",
    "\n",
    "print(resolve(doc))"
   ]
  },
  {
   "cell_type": "code",
   "execution_count": 10,
   "metadata": {},
   "outputs": [
    {
     "name": "stdout",
     "output_type": "stream",
     "text": [
      "0: woman(1), She(8)\n",
      "1: Lesley(6), him(13)\n",
      "\n",
      "\n",
      "[woman]\n",
      " The woman looked down and saw Lesley . woman stood up and greeted Lesley .\n"
     ]
    }
   ],
   "source": [
    "sentence='The woman looked down and saw Lesley. She stood up and greeted him.'\n",
    "\n",
    "doc = nlp(sentence)\n",
    "doc._.coref_chains.print()\n",
    "print()\n",
    "\n",
    "doc[4]._.coref_chains.print()\n",
    "print(doc._.coref_chains.resolve(doc[8]))\n",
    "\n",
    "    \n",
    "print(resolve(doc))"
   ]
  },
  {
   "cell_type": "code",
   "execution_count": 11,
   "metadata": {},
   "outputs": [
    {
     "name": "stdout",
     "output_type": "stream",
     "text": [
      "0: David(0), he(4)\n",
      "\n",
      "0: David(0), he(4)\n",
      "[David]\n",
      " David advised Jim that David must study\n"
     ]
    }
   ],
   "source": [
    "sentence='David advised Jim that he must study'\n",
    "doc = nlp(sentence)\n",
    "doc._.coref_chains.print()\n",
    "print()\n",
    "\n",
    "doc[4]._.coref_chains.print()\n",
    "print(doc._.coref_chains.resolve(doc[4]))\n",
    "\n",
    "print(resolve(doc))"
   ]
  },
  {
   "attachments": {},
   "cell_type": "markdown",
   "metadata": {},
   "source": [
    "<h3>Comparision</h3>"
   ]
  },
  {
   "attachments": {},
   "cell_type": "markdown",
   "metadata": {},
   "source": [
    "Test_Sentence='Although he was very busy with his work, Peter had enough of it. He and his wife decided they needed a holiday. They travelled to Spain because they loved the country very much.'"
   ]
  },
  {
   "attachments": {},
   "cell_type": "markdown",
   "metadata": {},
   "source": [
    "[he: [he, his], he was very busy with his work: [he was very busy with his work, it], Peter: [Peter, He, his], He and his wife: [He and his wife, they, They, they]]\n",
    "\n",
    "Although he was very busy with he work, Peter had enough of he was very busy with his work. Peter and Peter wife decided He and his wife needed a holiday. He and his wife travelled to Spain because He and his wife loved the country very much.\n",
    "\n",
    "\n"
   ]
  },
  {
   "attachments": {},
   "cell_type": "markdown",
   "metadata": {},
   "source": [
    "0: he(1), his(6), Peter(9), He(15), his(17)\n",
    "1: work(7), it(13)\n",
    "2: [He(15); wife(18)], they(20), They(25), they(30)\n",
    "3: Spain(28), country(33)\n",
    "\n",
    "\n",
    "[Peter]"
   ]
  },
  {
   "attachments": {},
   "cell_type": "markdown",
   "metadata": {},
   "source": [
    " Although Peter was very busy with Peter work , Peter had enough of work . Peter and Peter wife decided Peter and wife needed a holiday . Peter and wife travelled to Spain because Peter and wife loved the Spain very much .\n"
   ]
  },
  {
   "attachments": {},
   "cell_type": "markdown",
   "metadata": {},
   "source": [
    "---"
   ]
  },
  {
   "attachments": {},
   "cell_type": "markdown",
   "metadata": {},
   "source": [
    "Test_Sentence='The woman looked down and saw Lesley. She stood up and greeted her.'"
   ]
  },
  {
   "attachments": {},
   "cell_type": "markdown",
   "metadata": {},
   "source": [
    "[The woman: [The woman, She, her]]\n",
    "The woman looked down and saw Lesley. The woman stood up and greeted The woman."
   ]
  },
  {
   "attachments": {},
   "cell_type": "markdown",
   "metadata": {},
   "source": [
    "0: woman(1), her(13)\n",
    "1: Lesley(6), She(8)\n",
    "\n",
    "\n",
    "[Lesley]\n",
    " The woman looked down and saw Lesley . Lesley stood up and greeted woman ."
   ]
  },
  {
   "attachments": {},
   "cell_type": "markdown",
   "metadata": {},
   "source": [
    "---"
   ]
  },
  {
   "attachments": {},
   "cell_type": "markdown",
   "metadata": {},
   "source": [
    "Test_Sentence='The woman looked down and saw Lesley. She stood up and greeted him.'\n"
   ]
  },
  {
   "attachments": {},
   "cell_type": "markdown",
   "metadata": {},
   "source": [
    "[The woman: [The woman, She]]\n",
    "The woman looked down and saw Lesley. The woman stood up and greeted him."
   ]
  },
  {
   "attachments": {},
   "cell_type": "markdown",
   "metadata": {},
   "source": [
    "0: woman(1), She(8)\n",
    "1: Lesley(6), him(13)\n",
    "\n",
    "\n",
    "[woman]\n",
    " The woman looked down and saw Lesley . woman stood up and greeted Lesley ."
   ]
  },
  {
   "attachments": {},
   "cell_type": "markdown",
   "metadata": {},
   "source": [
    "---"
   ]
  },
  {
   "attachments": {},
   "cell_type": "markdown",
   "metadata": {},
   "source": [
    "Test_Sentence='David advised Jim that he must study'\n"
   ]
  },
  {
   "attachments": {},
   "cell_type": "markdown",
   "metadata": {},
   "source": [
    "[David: [David, he]]\n",
    "David advised Jim that David must study"
   ]
  },
  {
   "attachments": {},
   "cell_type": "markdown",
   "metadata": {},
   "source": [
    "0: David(0), he(4)\n",
    "\n",
    "0: David(0), he(4)\n",
    "[David]\n",
    " David advised Jim that David must study"
   ]
  },
  {
   "attachments": {},
   "cell_type": "markdown",
   "metadata": {},
   "source": []
  }
 ],
 "metadata": {
  "kernelspec": {
   "display_name": "Python 3",
   "language": "python",
   "name": "python3"
  },
  "language_info": {
   "codemirror_mode": {
    "name": "ipython",
    "version": 3
   },
   "file_extension": ".py",
   "mimetype": "text/x-python",
   "name": "python",
   "nbconvert_exporter": "python",
   "pygments_lexer": "ipython3",
   "version": "3.10.6"
  },
  "orig_nbformat": 4
 },
 "nbformat": 4,
 "nbformat_minor": 2
}
